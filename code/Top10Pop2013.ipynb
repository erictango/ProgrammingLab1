{
 "cells": [
  {
   "cell_type": "markdown",
   "metadata": {},
   "source": [
    "Add library and import classes"
   ]
  },
  {
   "cell_type": "code",
   "execution_count": null,
   "metadata": {
    "collapsed": true
   },
   "outputs": [],
   "source": [
    "#Add arcpy and json python library and import used classes\n",
    "import sys, os\n",
    "sys.path.append('C:\\\\Program Files (x86)\\\\ArcGIS\\\\Desktop10.2\\\\bin')\n",
    "sys.path.append('C:\\\\Program Files (x86)\\\\ArcGIS\\\\Desktop10.2\\\\arcpy')\n",
    "sys.path.append('C:\\\\Program Files (x86)\\\\ArcGIS\\\\Desktop10.2\\\\ArcToolbox\\\\Scripts')\n",
    "sys.path.append('C:\\\\pylib\\\\json\\')\n",
    "import json, time, arcgisscripting"
   ]
  },
  {
   "cell_type": "markdown",
   "metadata": {},
   "source": [
    "Join the shapefile (saep_bg10.shp) with WashingtonFIPS"
   ]
  },
  {
   "cell_type": "code",
   "execution_count": null,
   "metadata": {
    "collapsed": true
   },
   "outputs": [],
   "source": [
    "#import environments\n",
    "import arcpy\n",
    "from arcpy import env\n",
    "arcpy.env.workspace = \"C:\\\\input\" \n",
    "\n",
    "def go_print(msg): # - printing message\n",
    "    gp.addmessage(msg) ; print msg ; ## logfile.write(msg + \"\\n\")\n",
    "\n",
    "def go_warn(msg): # - printing message\n",
    "    gp.addwarning(msg) ; print msg ; ## logfile.write(msg + \"\\n\")\n",
    "\n",
    "def go_error(msg): # - printing message\n",
    "    gp.adderror(msg) ; print msg ; ## logfile.write(msg + \"\\n\") \n",
    "\n",
    "#define feature class to be joined\n",
    "in_data = \"saep_bg10.shp\"\n",
    "#define joined field\n",
    "in_field = \"COUNTYFP10\"\n",
    "#define table to join\n",
    "join_table = \"WashingtonFIPS.dbf\"\n",
    "#define field with values that correlate with those on the in feature class\n",
    "join_field = \"FIPSCounty\"\n",
    "\n",
    "#execute join\n",
    "arcpy.JoinField_management(in_data, in_field, join_table, join_field)"
   ]
  },
  {
   "cell_type": "markdown",
   "metadata": {},
   "source": [
    "Using dissolve to generalize the county to only one row each county, and use SUM statistic for POP2013 field"
   ]
  },
  {
   "cell_type": "code",
   "execution_count": null,
   "metadata": {
    "collapsed": true
   },
   "outputs": [],
   "source": [
    "input_feature = in_data\n",
    "output_feature = \"C:/output/output.gdb/saep_bg10_dissolved\"\n",
    "arcpy.Dissolve_management(input_feature,output_feature,\n",
    "                          [\"CountyName\"], [[\"POP2013\", \"SUM\"]], \"SINGLE_PART\", \n",
    "                          \"DISSOLVE_LINES\")"
   ]
  },
  {
   "cell_type": "markdown",
   "metadata": {},
   "source": [
    "Sort the population data from the highest to the lowest and put it on new feature class"
   ]
  },
  {
   "cell_type": "code",
   "execution_count": null,
   "metadata": {
    "collapsed": true
   },
   "outputs": [],
   "source": [
    "sorted_feature = \"C:/output/output.gdb/saep_bg10_sorted\"\n",
    "arcpy.Sort_management(output_feature, sorted_feature, [[\"SUM_POP2013\", \"DESCENDING\"]])"
   ]
  },
  {
   "cell_type": "markdown",
   "metadata": {},
   "source": [
    "Print the first 10 data"
   ]
  },
  {
   "cell_type": "code",
   "execution_count": null,
   "metadata": {
    "collapsed": true
   },
   "outputs": [],
   "source": [
    "input_table = sorted_feature\n",
    "#Define paramater where only the first 10 will be printed\n",
    "where = '\"OBJECTID\" < 10'\n",
    "\n",
    "cursor = arcpy.SearchCursor(input_table,where)\n",
    "\n",
    "#the print\n",
    "for row in cursor:\n",
    "    go_print(\"County: {0}, Population: {1}\".format(\n",
    "        row.getValue(\"CountyName\"),\n",
    "        row.getValue(\"SUM_POP2013\")))"
   ]
  },
  {
   "cell_type": "markdown",
   "metadata": {},
   "source": [
    "The output"
   ]
  },
  {
   "cell_type": "code",
   "metadata": {},
   "source": [
    "County: King, Population: 1981900.0\n",
    "County: Pierce, Population: 814500.0\n",
    "County: Snohomish, Population: 730500.0\n",
    "County: Spokane, Population: 480000.0\n",
    "County: Clark, Population: 435500.0\n",
    "County: Thurston, Population: 260100.0\n",
    "County: Kitsap, Population: 254000.0\n",
    "County: Yakima, Population: 247250.0\n",
    "County: Whatcom, Population: 205800.0"
   ]
  }
 ],
 "metadata": {
  "kernelspec": {
   "display_name": "Python 3",
   "language": "python",
   "name": "python3"
  },
  "language_info": {
   "codemirror_mode": {
    "name": "ipython",
    "version": 3
   },
   "file_extension": ".py",
   "mimetype": "text/x-python",
   "name": "python",
   "nbconvert_exporter": "python",
   "pygments_lexer": "ipython3",
   "version": "3.5.1"
  }
 },
 "nbformat": 4,
 "nbformat_minor": 0
}
